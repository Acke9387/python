{
 "cells": [
  {
   "cell_type": "markdown",
   "metadata": {},
   "source": [
    "## Data Analysis With Python Pandas"
   ]
  },
  {
   "cell_type": "markdown",
   "metadata": {},
   "source": [
    "In python, pandas is one of the most advanced yet easy to use data analysis tools ever created. We will take a look at how to perfrom data analysis operations using stock data. First lets Install Pandas Into Jupyters Notebook."
   ]
  },
  {
   "cell_type": "code",
   "execution_count": null,
   "metadata": {},
   "outputs": [],
   "source": [
    "#The Following Code Will Allow Us To Install Pandas Via Pip Without Having To Do It Through The Command Line\n",
    "import sys\n",
    "!{sys.executable} -m pip install pandas\n",
    "!{sys.executable} -m pip install pandas-datareader\n"
   ]
  },
  {
   "cell_type": "markdown",
   "metadata": {},
   "source": [
    "Now that we have installed pandas and pandas-datareader, we will set up our data connection. Since we will be using pandas_datareader to connect to a database and pull the data, an internet connection will be required at least for the initial setup. After a connection has been made, you will be able to write the data to a csv file if desired (See Lesson on reading and writing from .csv and .txt files). The datasource we will be using is IEX. IEX provides free use of their end of day stock prices for anyone, but if planning on using the following for bulk downloads of stock data for hundreds of tickers it will be neccassary to follow their api guidelines for bulk downloading without causing massive strains on their servers."
   ]
  },
  {
   "cell_type": "code",
   "execution_count": 12,
   "metadata": {},
   "outputs": [
    {
     "name": "stdout",
     "output_type": "stream",
     "text": [
      "                open      high       low     close     volume\n",
      "date                                                         \n",
      "2016-01-04   97.3268   99.9428   96.7482   99.9257   67649387\n",
      "2016-01-05  100.3051  100.3999   97.1371   97.4216   55790992\n",
      "2016-01-06   95.3823   97.0991   94.7278   95.5151   68457388\n",
      "2016-01-07   93.5991   94.9745   91.4650   91.4839   81094428\n",
      "2016-01-08   93.4758   94.0070   91.7780   91.9677   70798016\n",
      "2016-01-11   93.8742   93.9595   92.3281   93.4568   49739377\n",
      "2016-01-12   95.3728   95.5056   93.7508   94.8132   49154227\n",
      "2016-01-13   95.1547   95.9799   92.2902   92.3755   62439631\n",
      "2016-01-14   92.9162   95.3064   90.8105   94.3959   63170127\n",
      "2016-01-15   91.2468   92.6791   90.4501   92.1289   79833891\n",
      "2016-01-19   93.3430   93.5707   90.5828   91.6831   53087747\n",
      "2016-01-20   90.2034   93.1341   88.6099   91.8064   72334416\n",
      "2016-01-21   92.0625   92.8403   90.0517   91.3417   52161463\n",
      "2016-01-22   93.5517   96.2360   93.3051   96.1980   65800467\n",
      "2016-01-25   96.2929   96.3024   94.1018   94.3200   51794525\n",
      "2016-01-26   94.7848   95.6858   93.0205   94.8417   75077002\n",
      "2016-01-27   91.0950   91.6536   88.5341   88.6099  133369674\n",
      "2016-01-28   88.9609   89.6533   87.6330   89.2454   55678825\n",
      "2016-01-29   89.9094   92.3281   89.4921   92.3281   64416504\n",
      "2016-02-01   91.5029   91.7305   90.4880   91.4650   40943541\n",
      "2016-02-02   90.5070   91.0950   89.4257   89.6154   37357215\n",
      "2016-02-03   90.1086   91.8538   89.2360   91.3891   45964294\n",
      "2016-02-04   91.4177   92.8196   90.7787   92.1234   46471652\n",
      "2016-02-05   92.0471   92.4286   89.3482   89.6630   46418064\n",
      "2016-02-08   88.8142   91.2651   88.7284   90.6071   54021375\n",
      "2016-02-09   89.9204   91.4940   89.5771   90.5880   44331195\n",
      "2016-02-10   91.4749   91.8850   89.7392   89.9014   42343601\n",
      "2016-02-11   89.4436   90.3305   88.2992   89.3578   50074711\n",
      "2016-02-12   89.8251   90.1207   88.6998   89.6343   40351381\n",
      "2016-02-16   90.6166   92.3618   90.2256   92.1615   49057916\n",
      "...              ...       ...       ...       ...        ...\n",
      "2016-04-20  101.6981  103.0809  101.1450  102.1654   30611030\n",
      "2016-04-21  101.9747  101.9747  100.6300  101.0592   31552525\n",
      "2016-04-22  100.1437  101.5455   99.7717  100.7826   33683121\n",
      "2016-04-25  100.1341  100.7540   99.6668  100.2104   28031588\n",
      "2016-04-26   99.0946  100.4202   99.0946   99.5142   56016165\n",
      "2016-04-27   91.5512   94.1356   91.2460   93.2869  114602142\n",
      "2016-04-28   93.0866   93.3441   89.8823   90.4354   82242690\n",
      "2016-04-29   89.6343   90.3305   88.2229   89.3959   68531478\n",
      "2016-05-02   89.6105   89.7202   88.1180   89.3006   48160104\n",
      "2016-05-03   89.8346   91.3033   89.3387   90.7692   56831277\n",
      "2016-05-04   90.7883   91.4558   89.4722   89.8251   41025475\n",
      "2016-05-05   90.1897   90.2569   88.9232   89.4605   35890500\n",
      "2016-05-06   89.5852   89.6620   88.1269   88.9616   43699886\n",
      "2016-05-09   89.2302   89.9690   88.8369   89.0288   32936436\n",
      "2016-05-10   89.5469   89.7771   88.3763   89.6332   33686836\n",
      "2016-05-11   89.6908   89.7771   88.7121   88.7601   28719109\n",
      "2016-05-12   88.9616   89.0192   85.8433   86.6781   76314690\n",
      "2016-05-13   86.3519   87.9542   86.3519   86.8508   44392765\n",
      "2016-05-16   88.6450   90.5639   87.9350   90.0746   61259756\n",
      "2016-05-17   90.7174   90.8613   89.2398   89.7004   46916939\n",
      "2016-05-18   90.3432   91.3507   90.0842   90.7270   42062391\n",
      "2016-05-19   90.8038   90.8038   89.7771   90.3816   30442100\n",
      "2016-05-20   90.8038   91.5617   90.6886   91.3603   32025968\n",
      "2016-05-23   91.9839   93.2504   91.7920   92.5212   38018643\n",
      "2016-05-24   93.2792   94.1139   92.9146   93.9316   35140174\n",
      "2016-05-25   94.6704   95.6970   94.1331   95.5819   38642108\n",
      "2016-05-26   95.6395   96.6469   94.6416   96.3399   56331159\n",
      "2016-05-27   95.4092   96.3975   95.2221   96.2823   36341240\n",
      "2016-05-31   95.5627   96.3303   94.8143   95.8122   42307212\n",
      "2016-06-01   95.0062   95.5051   94.3442   94.4689   29173285\n",
      "\n",
      "[104 rows x 5 columns]\n"
     ]
    }
   ],
   "source": [
    "import pandas as pd\n",
    "import pandas_datareader.data as pdr\n",
    "import datetime as dt\n",
    "\n",
    "\n",
    "start = dt.datetime(2016, 1, 1)\n",
    "end = dt.datetime(2016, 6, 1)\n",
    "\n",
    "df = pdr.DataReader('AAPL', 'iex', start, end)\n",
    "print(df)"
   ]
  },
  {
   "cell_type": "markdown",
   "metadata": {},
   "source": [
    "As you can see, we have pulled stock data for apple and can now view the dataframe above giving the daily open, high, low, close, and volume for apple. We will now learn how to use our pandas dataframe using pandas indexing notation. To start lets assume that we would like to find the daily returns based only off the closing price. To do this we can reference the column containing the closing price by indexing the dataframe via column keyword. We can also create a new column by setting the dataframe along with the index key to a new set of values. This will all make much more sense once you are able to see the actual code. For The Following Examples, An Explanation Of What Is Happening Will Be Given After Each Block."
   ]
  },
  {
   "cell_type": "code",
   "execution_count": 2,
   "metadata": {},
   "outputs": [],
   "source": [
    "import pandas as pd\n",
    "import pandas_datareader.data as pdr\n",
    "import datetime as dt\n",
    "import numpy as np\n",
    "\n",
    "start = dt.datetime(2016, 1, 1)\n",
    "end = dt.datetime(2016, 6, 1)\n",
    "\n",
    "df = pdr.DataReader('AAPL', 'iex', start, end)\n",
    "\n",
    "df['Daily-Returns'] = ((df['close'] - df['close'].shift(1)) / df['close'].shift(1)) * 100"
   ]
  },
  {
   "cell_type": "markdown",
   "metadata": {},
   "source": [
    "Here We Create A New Column Called Daily Returns. We Find The Daily Returns Using The Closing Price Column To Find The Return\n",
    "The Following Code: df['close'].shift(1) Is How We Can Set The Value 1 Row Back Using The .shift(n) Function. Using .shift(n) Allows Us To Find The Current Column i-n Rows Back. \n",
    "\n",
    "One Thing That Makes Pandas So Easy To Use Is How It Aligns The Data For You. If You Remember From The numpy Lesson It Can Be Very Time Consuming To Have To Manually Index Arrays To Perform Vector Operations. Luckily Pandas Provides Us With The \n",
    "Neccassary Functions So We Can Quickly Write Code Without Having To Worry About Data Being Misaligned."
   ]
  },
  {
   "cell_type": "code",
   "execution_count": null,
   "metadata": {},
   "outputs": [],
   "source": [
    "import pandas as pd\n",
    "import pandas_datareader.data as pdr\n",
    "import datetime as dt\n",
    "import numpy as np\n",
    "\n",
    "start = dt.datetime(2016, 1, 1)\n",
    "end = dt.datetime(2016, 6, 1)\n",
    "\n",
    "df = pdr.DataReader('AAPL', 'iex', start, end)\n",
    "\n",
    "df['Daily-Returns'] = ((df['close'] - df['close'].shift(1)) / df['close'].shift(1)) * 100\n",
    "\n",
    "#Additions To Our DataFrame\n",
    "df['Moving-Average'] = df['close'].rolling(30).mean()\n",
    "df['Stdev'] = df['close'].rolling(30).std()"
   ]
  },
  {
   "cell_type": "markdown",
   "metadata": {},
   "source": [
    "Next We Will Create The Moving Average and Stdev Columns By Using .rolling() and .mean() Pandas Functions.To Explain .rolling(window=n) Better Lets Imagine That We Start At The Start Of Our Data Frame And Want To Find The 30 Day Moving Average All The Way Up To The Last Data Point. What We Do NOT Want To Do Is Find Just The Last 30 Days Average Or To Cumulatively Add On To The 30 Day Moving-Average Making It A 31 Day Average 31 Rows In and a 32 Day Average 32 Rows In etc... With .rolling(window=n) We Can Set Our Window == To The Length Of Time We Want To Find A Rolling Function For And Then On Row 31 Only Find The Moving Average For The Last 30 Days. This Is The Same On Day 32 and 33etc.. One Thing To Keep In Mind When Using .rolling() Is That It Only Works WithSome Functions. A Few Of These Functions Are .mean(), .std(), .median(), .mode(), and .sum(). Another Thing To\n",
    "\n",
    "Keep In Mind With .rolling() Is It Only Works If A Function Is Being Called. If For Example You Were To Try And Do df['close'].rolling(30) Withput Calling A .rolling() Function After It Would Throw An Error."
   ]
  },
  {
   "cell_type": "code",
   "execution_count": null,
   "metadata": {},
   "outputs": [],
   "source": [
    "import pandas as pd\n",
    "import pandas_datareader.data as pdr\n",
    "import datetime as dt\n",
    "import numpy as np\n",
    "\n",
    "start = dt.datetime(2016, 1, 1)\n",
    "end = dt.datetime(2016, 6, 1)\n",
    "\n",
    "df = pdr.DataReader('AAPL', 'iex', start, end)\n",
    "\n",
    "df['Daily-Returns'] = ((df['close'] - df['close'].shift(1)) / df['close'].shift(1)) * 100\n",
    "df['Moving-Average'] = df['close'].rolling(30).mean()\n",
    "df['Stdev'] = df['close'].rolling(30).std()\n",
    "\n",
    "#Additions To Our Dataframe\n",
    "df['High-Low'] = np.subtract(df['high'], df['low'])\n",
    "df['Close-MA'] = np.subtract(df['close'],df['Moving-Average'])\n"
   ]
  },
  {
   "cell_type": "markdown",
   "metadata": {},
   "source": [
    "You Can See Above That Pandas Allows Calculations To Be Made Using Numpy Which Provides An Even Faster Way To Compute Across The DataFrame."
   ]
  },
  {
   "cell_type": "code",
   "execution_count": null,
   "metadata": {},
   "outputs": [],
   "source": [
    "import pandas as pd\n",
    "import pandas_datareader.data as pdr\n",
    "import datetime as dt\n",
    "import numpy as np\n",
    "\n",
    "start = dt.datetime(2016, 1, 1)\n",
    "end = dt.datetime(2016, 6, 1)\n",
    "\n",
    "df = pdr.DataReader('AAPL', 'iex', start, end)\n",
    "\n",
    "df['Daily-Returns'] = ((df['close'] - df['close'].shift(1)) / df['close'].shift(1)) * 100\n",
    "df['Moving-Average'] = df['close'].rolling(30).mean()\n",
    "df['Stdev'] = df['close'].rolling(30).std()\n",
    "\n",
    "df['High-Low'] = np.subtract(df['high'], df['low'])\n",
    "df['Close-MA'] = np.subtract(df['close'],df['Moving-Average'])\n",
    "\n",
    "#Adding A Function To Drop Our NaN Values And Reset Our Index To 0\n",
    "df = df.dropna().reset_index(drop=True)\n"
   ]
  },
  {
   "cell_type": "markdown",
   "metadata": {},
   "source": [
    "Here You Can See How We Use Pandas Drop Function To Drop All NaN Values. By Calling .dropna() We Automatically Create Our Starting Row With A Row Of All non-NaN Values. The Next Part Is The .reset_index(drop=True). All This Does Is Resets Our Starting Index Back To 0 So If Trying To Access A Specific Point Using .iloc \n",
    "(How To Use This Will Be Shown Later) The New Index Will Be Standardized To Make Finding A Specific Row In A Specific Column Much Easier."
   ]
  },
  {
   "cell_type": "code",
   "execution_count": null,
   "metadata": {},
   "outputs": [],
   "source": [
    "import pandas_datareader.data as pdr\n",
    "import datetime as dt\n",
    "import numpy as np\n",
    "\n",
    "start = dt.datetime(2016, 1, 1)\n",
    "end = dt.datetime(2016, 6, 1)\n",
    "\n",
    "df = pdr.DataReader('AAPL', 'iex', start, end)\n",
    "\n",
    "df['Daily-Returns'] = ((df['close'] - df['close'].shift(1)) / df['close'].shift(1)) * 100\n",
    "df['Moving-Average'] = df['close'].rolling(30).mean()\n",
    "df['Stdev'] = df['close'].rolling(30).std()\n",
    "\n",
    "df['High-Low'] = np.subtract(df['high'], df['low'])\n",
    "df['Close-MA'] = np.subtract(df['close'],df['Moving-Average'])\n",
    "\n",
    "df = df.dropna().reset_index(drop=True)\n",
    "\n",
    "\n",
    "#Outputting Our DataFrame\n",
    "print(df.iloc[:,0:5])\n",
    "print(df.iloc[:,5:-1])"
   ]
  },
  {
   "cell_type": "markdown",
   "metadata": {},
   "source": [
    "Next Lets Look At How We Can Format Our Dataframe So Our Output Will Fit Within The Output Window. Pandas Index Notation Not Only Allows Us To Index A Specific Column But Also Index Multiple Columns At Once. Here We Use df.iloc[] To Instruct Pandas On Exactly How We Want To Output Our Dataframe. The Following Code Is Saying This:\n",
    "\n",
    "df.iloc[:\"This Means We Want All Rows Of The Frame\"]\n",
    "df.iloc[:,\"The Comma Means We Are Now Indexing By Columnn Instead Of Row\"]\n",
    "df.iloc[:,0\"The Key 0 Means We Want The First Column Through Column n:5\"]\n",
    "df.iloc[:,0:5\"Lastly The 5 Means We Want All Columns Up To The 5th Column\"]\n",
    "\n",
    "Dont Forget That The Index [-1] Means The Last One. So By Saying print(df.iloc[:,5:-1]) We Are Saying From The 5th Index To The Last Column Of The Dataframe.\n",
    "\n",
    "\n",
    "*Note: There Are Other Windows That Can Be Applied Such As A Gaussian Window For More Advanced Statistics. This Will Be Covered In Our Advanced Statistics and Machine Learning Lessons. For Now There Is No Need To Adjust The Window Type For .rolling() Functions."
   ]
  },
  {
   "cell_type": "markdown",
   "metadata": {},
   "source": [
    "Finally Lets Take A Look At Our Full Dataframe Outputted To The Console Window."
   ]
  },
  {
   "cell_type": "code",
   "execution_count": 3,
   "metadata": {},
   "outputs": [
    {
     "name": "stdout",
     "output_type": "stream",
     "text": [
      "        open      high       low     close     volume\n",
      "0    90.6166   92.3618   90.2256   92.1615   49057916\n",
      "1    92.1902   93.6588   91.6942   93.5730   44863243\n",
      "2    94.2596   94.3073   91.6380   91.7992   39020983\n",
      "3    91.5512   92.2759   91.3605   91.5893   35374173\n",
      "4    91.8468   92.4095   91.4749   92.3904   34280758\n",
      "5    91.9327   92.0280   90.1684   90.3019   31942633\n",
      "6    89.6248   91.9136   88.9954   91.6466   36255745\n",
      "7    91.5989   92.2760   90.8360   92.2760   27582659\n",
      "8    92.6956   93.4811   92.1043   92.4190   28991131\n",
      "9    92.3713   93.6779   92.1711   92.2092   35216277\n",
      "10   93.1247   96.1001   92.9054   95.8713   50407147\n",
      "11   95.8522   96.2146   95.0225   96.0811   33169560\n",
      "12   95.9190   96.9965   95.7950   96.7963   36955742\n",
      "13   97.6260   98.9421   96.6723   98.2363   46055100\n",
      "14   97.6451   98.0647   96.2813   97.1492   35915810\n",
      "15   96.1097   97.0443   95.7473   96.3481   31561889\n",
      "16   96.6151   96.8726   95.6233   96.4339   27201683\n",
      "17   96.7105   97.5020   95.5089   96.4816   33513577\n",
      "18   97.5020   97.5402   96.7963   97.5211   27408237\n",
      "19   97.1873   98.1410   97.0633   97.7691   25076062\n",
      "20   99.1423  100.3058   99.0374   99.7336   40067734\n",
      "21   99.7622  101.3834   99.7431  101.0592   38303493\n",
      "22  100.6300  101.5360  100.0960  100.8970   34420705\n",
      "23  101.4120  101.5646  100.3153  101.0115   44205171\n",
      "24  101.0210  102.6613  100.2677  101.0020   35502678\n",
      "25  100.3725  102.3180  100.3344  101.7744   32444375\n",
      "26  101.5455  102.1082  100.9924  101.2118   25703495\n",
      "27  100.5823  101.3262  100.0292  100.7731   26132955\n",
      "28  101.0878  101.2690  100.1913  100.3153   19411372\n",
      "29  100.0292  102.7948  100.0197  102.6899   31190083\n",
      "..       ...       ...       ...       ...        ...\n",
      "45  101.6981  103.0809  101.1450  102.1654   30611030\n",
      "46  101.9747  101.9747  100.6300  101.0592   31552525\n",
      "47  100.1437  101.5455   99.7717  100.7826   33683121\n",
      "48  100.1341  100.7540   99.6668  100.2104   28031588\n",
      "49   99.0946  100.4202   99.0946   99.5142   56016165\n",
      "50   91.5512   94.1356   91.2460   93.2869  114602142\n",
      "51   93.0866   93.3441   89.8823   90.4354   82242690\n",
      "52   89.6343   90.3305   88.2229   89.3959   68531478\n",
      "53   89.6105   89.7202   88.1180   89.3006   48160104\n",
      "54   89.8346   91.3033   89.3387   90.7692   56831277\n",
      "55   90.7883   91.4558   89.4722   89.8251   41025475\n",
      "56   90.1897   90.2569   88.9232   89.4605   35890500\n",
      "57   89.5852   89.6620   88.1269   88.9616   43699886\n",
      "58   89.2302   89.9690   88.8369   89.0288   32936436\n",
      "59   89.5469   89.7771   88.3763   89.6332   33686836\n",
      "60   89.6908   89.7771   88.7121   88.7601   28719109\n",
      "61   88.9616   89.0192   85.8433   86.6781   76314690\n",
      "62   86.3519   87.9542   86.3519   86.8508   44392765\n",
      "63   88.6450   90.5639   87.9350   90.0746   61259756\n",
      "64   90.7174   90.8613   89.2398   89.7004   46916939\n",
      "65   90.3432   91.3507   90.0842   90.7270   42062391\n",
      "66   90.8038   90.8038   89.7771   90.3816   30442100\n",
      "67   90.8038   91.5617   90.6886   91.3603   32025968\n",
      "68   91.9839   93.2504   91.7920   92.5212   38018643\n",
      "69   93.2792   94.1139   92.9146   93.9316   35140174\n",
      "70   94.6704   95.6970   94.1331   95.5819   38642108\n",
      "71   95.6395   96.6469   94.6416   96.3399   56331159\n",
      "72   95.4092   96.3975   95.2221   96.2823   36341240\n",
      "73   95.5627   96.3303   94.8143   95.8122   42307212\n",
      "74   95.0062   95.5051   94.3442   94.4689   29173285\n",
      "\n",
      "[75 rows x 5 columns]\n",
      "    Daily-Returns  Moving-Average     Stdev  High-Low\n",
      "0        2.819456       92.345487  2.631324    2.1362\n",
      "1        1.531551       92.133730  2.224426    1.9646\n",
      "2       -1.895632       91.946317  1.987813    2.6693\n",
      "3       -0.228651       91.815457  1.870535    0.9154\n",
      "4        0.874665       91.845673  1.872315    0.9346\n",
      "5       -2.260516       91.790147  1.893157    1.8596\n",
      "6        1.489116       91.729807  1.866870    2.9182\n",
      "7        0.686769       91.645233  1.777710    1.4400\n",
      "8        0.154970       91.646683  1.778344    1.3768\n",
      "9       -0.227010       91.573793  1.705079    1.5068\n",
      "10       3.971513       91.698540  1.875478    3.1947\n",
      "11       0.218835       91.845140  2.038990    1.1921\n",
      "12       0.744371       92.011470  2.230273    1.2015\n",
      "13       1.487660       92.241290  2.498033    2.2698\n",
      "14      -1.106617       92.272997  2.555364    1.7834\n",
      "15      -0.824608       92.340600  2.636912    1.2970\n",
      "16       0.089052       92.393673  2.704154    1.2493\n",
      "17       0.049464       92.656063  2.706249    1.9931\n",
      "18       1.077408       92.931920  2.767688    0.7439\n",
      "19       0.254304       93.113287  2.901781    1.0777\n",
      "20       2.009326       93.388907  3.124002    1.2684\n",
      "21       1.329141       93.770367  3.338651    1.6403\n",
      "22      -0.160500       94.087297  3.549435    1.4400\n",
      "23       0.113482       94.383567  3.745391    1.2493\n",
      "24      -0.009405       94.761533  3.823903    2.3936\n",
      "25       0.764737       95.133777  3.947102    1.9836\n",
      "26      -0.552791       95.487903  4.001400    1.1158\n",
      "27      -0.433447       95.850293  3.970188    1.2970\n",
      "28      -0.454288       96.215543  3.854648    1.0777\n",
      "29       2.367136       96.650730  3.822862    2.7751\n",
      "..            ...             ...       ...       ...\n",
      "45       0.205776      102.335167  2.889042    1.9359\n",
      "46      -1.082754      102.489343  2.679040    1.3447\n",
      "47      -0.273701      102.632710  2.451908    1.7738\n",
      "48      -0.567757      102.722353  2.303234    1.0872\n",
      "49      -0.694738      102.780523  2.193232    1.3256\n",
      "50      -6.257700      102.565633  2.747773    2.8896\n",
      "51      -3.056699      102.211507  3.523657    3.4618\n",
      "52      -1.149439      101.828137  4.227052    2.1076\n",
      "53      -0.106604      101.437773  4.806145    1.6022\n",
      "54       1.644558      101.096680  5.186222    1.9646\n",
      "55      -1.040111      100.698370  5.576552    1.9836\n",
      "56      -0.405900      100.306660  5.940112    1.3337\n",
      "57      -0.557676       99.912943  6.289305    1.5351\n",
      "58       0.075538       99.536727  6.594569    1.1321\n",
      "59       0.678881       99.101503  6.806732    1.4008\n",
      "60      -0.974081       98.577413  6.981164    1.0650\n",
      "61      -2.345649       98.002043  7.230863    3.1759\n",
      "62       0.199243       97.400640  7.386595    1.6023\n",
      "63       3.711883       96.870777  7.320490    2.6289\n",
      "64      -0.415433       96.370083  7.278599    1.6215\n",
      "65       1.144477       95.867053  7.122945    1.2665\n",
      "66      -0.380703       95.429437  7.039991    1.0267\n",
      "67       1.082853       95.020630  6.902443    0.8731\n",
      "68       1.270683       94.639077  6.704336    1.4584\n",
      "69       1.524407       94.259397  6.393819    1.1993\n",
      "70       1.756917       93.883863  5.943975    1.5639\n",
      "71       0.793037       93.531690  5.437270    2.0053\n",
      "72      -0.059788       93.249120  5.039370    1.1754\n",
      "73      -0.488252       93.026220  4.756038    1.5160\n",
      "74      -1.402014       92.776663  4.458453    1.1609\n",
      "\n",
      "[75 rows x 4 columns]\n"
     ]
    }
   ],
   "source": [
    "import pandas_datareader.data as pdr\n",
    "import datetime as dt\n",
    "import numpy as np\n",
    "\n",
    "start = dt.datetime(2016, 1, 1)\n",
    "end = dt.datetime(2016, 6, 1)\n",
    "\n",
    "df = pdr.DataReader('AAPL', 'iex', start, end)\n",
    "\n",
    "df['Daily-Returns'] = ((df['close'] - df['close'].shift(1)) / df['close'].shift(1)) * 100\n",
    "df['Moving-Average'] = df['close'].rolling(30).mean()\n",
    "df['Stdev'] = df['close'].rolling(30).std()\n",
    "\n",
    "df['High-Low'] = np.subtract(df['high'], df['low'])\n",
    "df['Close-MA'] = np.subtract(df['close'],df['Moving-Average'])\n",
    "\n",
    "df = df.dropna().reset_index(drop=True)\n",
    "\n",
    "\n",
    "#Outputting Our DataFrame\n",
    "print(df.iloc[:,0:5])\n",
    "print(df.iloc[:,5:-1])"
   ]
  },
  {
   "cell_type": "code",
   "execution_count": null,
   "metadata": {},
   "outputs": [],
   "source": []
  }
 ],
 "metadata": {
  "kernelspec": {
   "display_name": "Python 3",
   "language": "python",
   "name": "python3"
  },
  "language_info": {
   "codemirror_mode": {
    "name": "ipython",
    "version": 3
   },
   "file_extension": ".py",
   "mimetype": "text/x-python",
   "name": "python",
   "nbconvert_exporter": "python",
   "pygments_lexer": "ipython3",
   "version": "3.6.7"
  }
 },
 "nbformat": 4,
 "nbformat_minor": 2
}


for i in np.arange(1, len(signal)):
    
    if current_holding == False:
    
        if signal[i] == True and signal[i-1] != True:
            
            trade_count += 1          
            buy_price = daily_close[i]
            current_holding = True
            
    elif current_holding == True:
        
        if signal[i] == False and signal[i-1] != False:
            
            trade_count += 1
            sell_price = daily_close[i]
            current_holding = False
            trade_profit = ((sell_price - buy_price) / buy_price) * 100
            total_profit.append(trade_profit)

#Creating A Dataframe For Our Results Using Nothing But Printing and Formatting Commands
            
print('||Ticker: AAPL | Market Cap: $850Bn | Signal: Technical |Rating: B||')
print('--------------------------------------------------------------------')
print('|Sum of Total Profit:     ', '{:>12}'.format(np.round(np.sum(total_profit), 3)), '%', '|')
print('|Average of Total Profit: ', '{:>12}'.format(np.round(np.mean(total_profit),3)), '%', '|')
print('|Stdev of Total Profit:   ', '{:>12}'.format(np.round(np.std(total_profit), 3)), '%', '|')
                                                    
