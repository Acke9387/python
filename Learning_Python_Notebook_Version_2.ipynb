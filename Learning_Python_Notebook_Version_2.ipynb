{
 "cells": [
  {
   "cell_type": "markdown",
   "metadata": {},
   "source": [
    "## Understanding Python Variables and Datatypes"
   ]
  },
  {
   "cell_type": "markdown",
   "metadata": {},
   "source": [
    "Variables in python are reserved in-memory that will be run when intepreted. Datatypes in python are instructions to the interpreter on how to handle the variables. "
   ]
  },
  {
   "cell_type": "code",
   "execution_count": 1,
   "metadata": {},
   "outputs": [
    {
     "name": "stdout",
     "output_type": "stream",
     "text": [
      "This Is A String\n",
      "This Is Also A String Variable\n"
     ]
    }
   ],
   "source": [
    "#String Variable\n",
    "string_variable = 'This Is A String'\n",
    "print(string_variable)\n",
    "\n",
    "#Another Way To Write A String Variable\n",
    "also_string_variable = \"This Is Also A String Variable\"\n",
    "print(also_string_variable)"
   ]
  },
  {
   "cell_type": "markdown",
   "metadata": {},
   "source": [
    "#### Floats and Integers"
   ]
  },
  {
   "cell_type": "markdown",
   "metadata": {},
   "source": [
    "Floats and integers in python are data types for performing mathematical operations on real numerical numbers. An integer in python is a real whole number while a float is used to handle numbers that have decimals or could possibly be a decimal. If a float data type is applied to the number 10 for example it would return 10.0. To explicitly state the data type of a variable, we can surround the variable or the value the variable is being set to with its respective data type. The data types of python include: \n",
    "\n",
    "Strings = str()\n",
    "Floats = float()\n",
    "Integers = int()\n",
    "Booleans = bool()\n",
    "\n",
    "Another way we can use data types in python is by setting an empty variable equal to the data type that will be used later on. However, since python is interpreted there is usually not a need to do it this way. Printing the variable name set equal to a data type will print out the actual intepreter version of the data type."
   ]
  },
  {
   "cell_type": "code",
   "execution_count": null,
   "metadata": {},
   "outputs": [],
   "source": [
    "#Integer Data Type\n",
    "integer_variable = 10\n",
    "print(integer_variable)\n",
    "\n",
    "#Explicitly Stating Integer Variable\n",
    "explicit_integer = int(10)\n",
    "print(explicit_integer)\n",
    "\n",
    "#Float Data Type\n",
    "float_variable = 3.14\n",
    "print(float_variable)\n",
    "\n",
    "#Explicitly Stating Float Variable\n",
    "explicit_float = float(3.14)\n",
    "print(explicit_float)\n",
    "\n",
    "#Setting Empty Variable Equal To The Data Type That Will Be Used later\\\n",
    "future_float = float\n",
    "print(future_float)\n"
   ]
  },
  {
   "cell_type": "markdown",
   "metadata": {},
   "source": [
    "#### Python Lists / Tuples / Dictionaries"
   ]
  },
  {
   "cell_type": "markdown",
   "metadata": {},
   "source": [
    "We now have a good understanding of python variables and data types. But what happens if we want to hold 10, 100, or maybe even a thousand different variables. We would not want to have to make a different variable for each one, so instead we can use lists, tuples, and dictionaries to hold multiple items. Since python is interpreted, we have the ability to hold multiple data types with in one list or dictionary, allowing us to be able to hold many items by only declaring one variable name. Lists in python are very powerful, and we will see later how much we are able to do with lists. For now, lets look at the difference between lists and tuples and in what situations we would want to use one or the other."
   ]
  },
  {
   "cell_type": "code",
   "execution_count": 9,
   "metadata": {},
   "outputs": [
    {
     "name": "stdout",
     "output_type": "stream",
     "text": [
      "['List item 1', 'List item 2', 3, 4, True, False, 3.14159]\n",
      "('Tuple item 1', 'Tuple item 2', 3, False)\n"
     ]
    }
   ],
   "source": [
    "#Initializing a List\n",
    "python_list = ['List item 1', 'List item 2', 3, 4, True, False, 3.14159]\n",
    "print(python_list)\n",
    "\n",
    "#Creating a Tuple\n",
    "python_tuple = ('Tuple item 1', 'Tuple item 2', 3, False)\n",
    "print(python_tuple)"
   ]
  },
  {
   "cell_type": "markdown",
   "metadata": {},
   "source": [
    "Lists in python have the ability to be changed after created. For instance, lets say there is an item that is not currently in the list, but we would like it to be. We have the ability to use the .append() function in python to add this item to the end of the list. Tuples on the other hand, are immutable objects that cannot be changed once created (If completely neccassary they can be changed but that is out of the scope of this lesson). "
   ]
  },
  {
   "cell_type": "code",
   "execution_count": 10,
   "metadata": {},
   "outputs": [
    {
     "name": "stdout",
     "output_type": "stream",
     "text": [
      "List From Before:  ['List item 1', 'List item 2', 3, 4, True, False, 3.14159]\n",
      "Adding an Item To End of List:  ['List item 1', 'List item 2', 3, 4, True, False, 3.14159, 'Added Item 1']\n"
     ]
    }
   ],
   "source": [
    "#Appending Items To An Exisiting List\n",
    "python_list = ['List item 1', 'List item 2', 3, 4, True, False, 3.14159]\n",
    "print('List From Before: ', python_list)\n",
    "\n",
    "python_list.append('Added Item 1')\n",
    "print('Adding an Item To End of List: ',python_list)"
   ]
  },
  {
   "cell_type": "markdown",
   "metadata": {},
   "source": [
    "#### Python Basic Operators"
   ]
  },
  {
   "cell_type": "markdown",
   "metadata": {},
   "source": [
    "Python operators are used for manipulating numerical data types and returning the result. This includes the most basic things such as addition, subtraction, multiplication, and division. Also included are things such as remainder values, natural logariths, pi, and exponential functions including e^n. The following code will show how to perform each operation on the constant variables (x, y) and what the returning result is. "
   ]
  },
  {
   "cell_type": "code",
   "execution_count": 2,
   "metadata": {},
   "outputs": [
    {
     "name": "stdout",
     "output_type": "stream",
     "text": [
      "Addition: 10 + 3.14 =  13.14\n",
      "Subtraction: 10 - 3.14 =  6.859999999999999\n",
      "Absolute Value: ABS(10-3.14) =  6.859999999999999\n",
      "Multiplication: 10 * 3.14 =  31.400000000000002\n",
      "Division: 10 / 3.14 =  3.184713375796178\n",
      "Squaring X: 10**2 =  100\n",
      "Cube Exponent of X: 10**3 =  1000\n",
      "Finding Remainder X/Y: 10 % 3.14 =  0.5799999999999996\n"
     ]
    }
   ],
   "source": [
    "#Our Constant Variables (x, y)\n",
    "x = 10\n",
    "y = 3.14\n",
    "\n",
    "#Addition\n",
    "add_this = x+y\n",
    "print('Addition: 10 + 3.14 = ', add_this)\n",
    "\n",
    "#Subtraction\n",
    "subtract_this = x-y\n",
    "print('Subtraction: 10 - 3.14 = ', subtract_this)\n",
    "\n",
    "#If We Want The Absolute Value of x-y\n",
    "absolute_value_subtraction = abs(x-y)\n",
    "print('Absolute Value: ABS(10-3.14) = ', absolute_value_subtraction)\n",
    "\n",
    "#Multiplication\n",
    "multiply_this = x*y\n",
    "print('Multiplication: 10 * 3.14 = ', multiply_this)\n",
    "\n",
    "#Division\n",
    "divide_this = x/y\n",
    "print('Division: 10 / 3.14 = ', divide_this)\n",
    "\n",
    "#Finding The Square Value Using The Exponential Operator\n",
    "square_this = x**2\n",
    "print('Squaring X: 10**2 = ', square_this)\n",
    "\n",
    "#Finding The Cube Value Using The Exponential Operator\n",
    "cube_this = x**3\n",
    "print('Cube Exponent of X: 10**3 = ', cube_this)\n",
    "\n",
    "#Finding The Remainder of x / y\n",
    "find_remainder = x % y\n",
    "print('Finding Remainder X/Y: 10 % 3.14 = ', find_remainder)\n",
    "\n"
   ]
  },
  {
   "cell_type": "markdown",
   "metadata": {},
   "source": [
    "As you can see, the results of most of the mathematical operations run above return very long decimal numbers. We can eliminate this by using the python rounding function. Lets try to use this on the number pi. To do this we first will import the math library. This is a standard library in python and requires no special installation. After importing this we will then call the pi function from the math class as shown from the code below."
   ]
  },
  {
   "cell_type": "code",
   "execution_count": 7,
   "metadata": {},
   "outputs": [
    {
     "name": "stdout",
     "output_type": "stream",
     "text": [
      "Before We Round pi:  3.141592653589793\n",
      "After Rounding pi to the 2nd Decimal:  3.14\n"
     ]
    }
   ],
   "source": [
    "#How We Import Libraries & Modules In Python\n",
    "import math\n",
    "\n",
    "#Calling The Pi Function From The Standard Python Math Library\n",
    "from math import pi\n",
    "\n",
    "#Before Rounding Pi\n",
    "unrounded_pi = math.pi\n",
    "print('Before We Round pi: ', unrounded_pi)\n",
    "\n",
    "#After Rounding Pi To The 2nd Decimal Place\n",
    "rounded_pi = round(math.pi, 2)\n",
    "print('After Rounding pi to the 2nd Decimal: ', rounded_pi)\n"
   ]
  },
  {
   "cell_type": "code",
   "execution_count": null,
   "metadata": {},
   "outputs": [],
   "source": [
    "#### Conditional Statements"
   ]
  },
  {
   "cell_type": "markdown",
   "metadata": {},
   "source": [
    "Conditional Statements in python are extremely useful in situations where you only want something to happen IF something else happens before. We can use conditonals in all types of situations including handling user input which we will learn how to do later on. The following code will show how a full conditional statement should look before we break it down step by step."
   ]
  },
  {
   "cell_type": "code",
   "execution_count": null,
   "metadata": {},
   "outputs": [],
   "source": [
    "#Creating True/False Variables For Conditional\n",
    "condition_1 = False\n",
    "condition_2 = True\n",
    "\n",
    "#Writing Our First Basic Conditional Statement\n",
    "print(' --Running First Conditional Statement')\n",
    "if condition_1 == True:\n",
    "    \n",
    "    print('Condition 1 Is True')    \n",
    "    condition_1 = False   \n",
    "    condition_2 = True\n",
    "\n",
    "elif condition_2 == True:\n",
    "    \n",
    "    print('Condition 2 Is True')\n",
    "    condition_1 = True\n",
    "    condition_2 = False\n",
    "    \n",
    "    \n",
    "#Writing Our Second Basic Conditional Statement\n",
    "print(' --Running Second Conditional Statement')\n",
    "if condition_1 == True:\n",
    "    \n",
    "    print('Condition 1 Is True')\n",
    "    condition_1 = False\n",
    "    condition_2 = True\n",
    "    \n",
    "elif condition_2 == True:\n",
    "    \n",
    "    print('Condition 2 Is True')\n",
    "    condition_1 = True\n",
    "    condition_2 = False\n",
    "    \n"
   ]
  },
  {
   "cell_type": "markdown",
   "metadata": {},
   "source": [
    "Lets breakdown the above code step by step. First we created two boolean variables and set one to true and the other to False."
   ]
  },
  {
   "cell_type": "code",
   "execution_count": null,
   "metadata": {},
   "outputs": [],
   "source": [
    "#Creating True/False Variables For Conditional\n",
    "condition_1 = False\n",
    "condition_2 = True"
   ]
  },
  {
   "cell_type": "markdown",
   "metadata": {},
   "source": [
    "Next we write our first conditional statement by saying if condition_1 == True. In python when testing to see if something is True or False we use the expression == to test it. To intialize a conditional Statement at the end of the line containing if or elif or else we use a colon \":\" to instruct the interpeter to indent whatever comes next so we know it is contained within the conditional statement. If we dont use the colon, it will cause an error when trying to run it. Lets run the first part of the conditional statement and see what happens. "
   ]
  },
  {
   "cell_type": "code",
   "execution_count": null,
   "metadata": {},
   "outputs": [],
   "source": [
    "condition_1 = False\n",
    "condition_2 = True\n",
    "\n",
    "if condition_1 == True:\n",
    "    \n",
    "    print('Condition 1 Is True')    \n",
    "    condition_1 = False   \n",
    "    condition_2 = True"
   ]
  },
  {
   "cell_type": "markdown",
   "metadata": {},
   "source": [
    "As you can see nothing was printed to the output. This is because condition_1 is not equal to True. Lets add in the elif statement now and see what happens."
   ]
  },
  {
   "cell_type": "code",
   "execution_count": 2,
   "metadata": {},
   "outputs": [
    {
     "name": "stdout",
     "output_type": "stream",
     "text": [
      "Condition 2 Is True\n"
     ]
    }
   ],
   "source": [
    "condition_1 = False\n",
    "condition_2 = True\n",
    "\n",
    "if condition_1 == True:\n",
    "    \n",
    "    print('Condition 1 Is True')    \n",
    "    condition_1 = False   \n",
    "    condition_2 = True\n",
    "\n",
    "elif condition_2 == True:\n",
    "    \n",
    "    print('Condition 2 Is True')\n",
    "    condition_1 = True\n",
    "    condition_2 = False\n",
    "    "
   ]
  },
  {
   "cell_type": "markdown",
   "metadata": {},
   "source": [
    "Now you can see Condition 2 Has Returned True. The interpreter will now exit out of the conditional statement since a condition has been met. You can see how in the conditional statement we are setting which ever value is True to False if the condition is met. If we were to run this in an infinite loop, it would constantly flip back and forth exiting out everytime a condition is met in each conditional statement. Now we will run the full statement again but set condition_1 == False and condition_2 == False to see how the else statement works. "
   ]
  },
  {
   "cell_type": "code",
   "execution_count": 3,
   "metadata": {},
   "outputs": [
    {
     "name": "stdout",
     "output_type": "stream",
     "text": [
      "Condition 1 and Condition 2 Are Both False\n",
      "Creating a 3rd Condition\n",
      "The 3rd Condition We Just Created Returned True So Now Our Conditional Is Over\n"
     ]
    }
   ],
   "source": [
    "condition_1 = False\n",
    "condition_2 = False\n",
    "\n",
    "if condition_1 == True:\n",
    "    \n",
    "    print('Condition 1 Is True')    \n",
    "    condition_1 = False   \n",
    "    condition_2 = True\n",
    "\n",
    "elif condition_2 == True:\n",
    "    \n",
    "    print('Condition 2 Is True')\n",
    "    condition_1 = True\n",
    "    condition_2 = False\n",
    "    \n",
    "else:\n",
    "    \n",
    "    print('Condition 1 and Condition 2 Are Both False')\n",
    "    print('Creating a 3rd Condition')    \n",
    "    condition_3 = True   \n",
    "    \n",
    "    if condition_3 == True:\n",
    "        \n",
    "        print('The 3rd Condition We Just Created Returned True So Now Our Conditional Is Over')\n",
    "    "
   ]
  },
  {
   "cell_type": "markdown",
   "metadata": {},
   "source": [
    "Lets breakdown what just happened. Since both condition_1 and condition_2 are False in the if and elif part of the conditonal statement, we have an else statement at the end. What the else statement does is covers every other scenario that doees not meet a condition. Lets look at a real life example to get a better understanding of this. \"If you are over the age of 18, you are considered an adult. Else if you are not 18 yet but are over 16 you are legally allowed to drive, else if you are under 16 you are neither an adult or have the ability to drive. "
   ]
  },
  {
   "cell_type": "markdown",
   "metadata": {},
   "source": [
    "#### Developing Efficient Algorithms Using numpy"
   ]
  },
  {
   "cell_type": "markdown",
   "metadata": {},
   "source": [
    "One of the downsides mentioned quite often with python is speed of execution. Since it is an interpreted language that takes care of many things that would cause other programming languages to throw an error, it is slower to run through the code. Since python is one of the most used languages in data science and scientific computing, there have been many ways created to bypass this downside of python. One way would be to write C/C++ extensions for python compiled in a .pyx file. While this way may provide the fastest running solution, it can be very complex and requires being able to program well in both C and python. For this reason we will save how to do this for a more advanced lesson and look at other ways. The python modules numpy short for numerical python and its scientific extention scipy short for scientific computing allow us to run computations through functions created in C/C++ without having to have a great proficiency in it. Next we will look at how we can use numpy to initialize arrays, perform vector operations, and even how to filter basic signals using a convolutional function. "
   ]
  },
  {
   "cell_type": "code",
   "execution_count": 2,
   "metadata": {},
   "outputs": [
    {
     "name": "stdout",
     "output_type": "stream",
     "text": [
      "Collecting numpy\n",
      "\u001b[?25l  Downloading https://files.pythonhosted.org/packages/ff/7f/9d804d2348471c67a7d8b5f84f9bc59fd1cefa148986f2b74552f8573555/numpy-1.15.4-cp36-cp36m-manylinux1_x86_64.whl (13.9MB)\n",
      "\u001b[K    100% |████████████████████████████████| 13.9MB 970kB/s eta 0:00:01\n",
      "\u001b[?25hInstalling collected packages: numpy\n",
      "Successfully installed numpy-1.15.4\n"
     ]
    }
   ],
   "source": [
    "#The Following Code Will Allow Us To Install Numpy Via Pip Without Having To Do It Through The Command Line\n",
    "import sys\n",
    "!{sys.executable} -m pip install numpy"
   ]
  },
  {
   "cell_type": "markdown",
   "metadata": {},
   "source": [
    "Now that we have installed numpy lets look at how to get started with it. First we must import python into our current file."
   ]
  },
  {
   "cell_type": "code",
   "execution_count": 5,
   "metadata": {},
   "outputs": [],
   "source": [
    "import numpy as np\n",
    "from numpy import *\n"
   ]
  },
  {
   "cell_type": "markdown",
   "metadata": {},
   "source": [
    "Now that we have installed numpy lets create two array of incremental values and see how we can use these. We will use the numpy function .arange which is exactly the same as the python range function but much faster. "
   ]
  },
  {
   "cell_type": "code",
   "execution_count": 4,
   "metadata": {},
   "outputs": [
    {
     "name": "stdout",
     "output_type": "stream",
     "text": [
      "[ 100  198  294  388  480  570  658  744  828  910  990 1068 1144 1218\n",
      " 1290 1360 1428 1494 1558 1620 1680 1738 1794 1848 1900 1950 1998 2044\n",
      " 2088 2130 2170 2208 2244 2278 2310 2340 2368 2394 2418 2440 2460 2478\n",
      " 2494 2508 2520 2530 2538 2544 2548 2550 2550 2548 2544 2538 2530 2520\n",
      " 2508 2494 2478 2460 2440 2418 2394 2368 2340 2310 2278 2244 2208 2170\n",
      " 2130 2088 2044 1998 1950 1900 1848 1794 1738 1680 1620 1558 1494 1428\n",
      " 1360 1290 1218 1144 1068  990  910  828  744  658  570  480  388  294\n",
      "  198]\n"
     ]
    }
   ],
   "source": [
    "#Creating A List Of Numbers In a Range of 1 to 100 Incrementing By 1\n",
    "x = [i for i in np.arange(1, 100, 1)]\n",
    "\n",
    "#Creating A List Of Numbers In a Range of 100 to 1 Incrementing By -1\n",
    "y = [i for i in np.arange(100, 1, -1)]\n",
    "\n",
    "#Converting x & y To Numpy Array and Declaring Data Type\n",
    "x = np.array(x, dtype=np.float)\n",
    "y = np.array(y, dtype=np.float)\n",
    "\n",
    "#Using The Multiplication Function From numpy\n",
    "np_multiply = np.multiply(x, y)\n",
    "print(numpy_multiplication)"
   ]
  },
  {
   "cell_type": "markdown",
   "metadata": {},
   "source": [
    "As you can see from the code above, the numpy multiplication function performs vector multiplication across the arrays and outputs the values into one array. Lets look at what would happen if the arrays were different lengths. "
   ]
  },
  {
   "cell_type": "code",
   "execution_count": 6,
   "metadata": {},
   "outputs": [
    {
     "ename": "ValueError",
     "evalue": "operands could not be broadcast together with shapes (199,) (99,) ",
     "output_type": "error",
     "traceback": [
      "\u001b[0;31m---------------------------------------------------------------------------\u001b[0m",
      "\u001b[0;31mValueError\u001b[0m                                Traceback (most recent call last)",
      "\u001b[0;32m<ipython-input-6-5f2b89a42cf7>\u001b[0m in \u001b[0;36m<module>\u001b[0;34m()\u001b[0m\n\u001b[1;32m      5\u001b[0m \u001b[0my\u001b[0m \u001b[0;34m=\u001b[0m \u001b[0mnp\u001b[0m\u001b[0;34m.\u001b[0m\u001b[0marray\u001b[0m\u001b[0;34m(\u001b[0m\u001b[0my\u001b[0m\u001b[0;34m,\u001b[0m \u001b[0mdtype\u001b[0m\u001b[0;34m=\u001b[0m\u001b[0mnp\u001b[0m\u001b[0;34m.\u001b[0m\u001b[0mfloat\u001b[0m\u001b[0;34m)\u001b[0m\u001b[0;34m\u001b[0m\u001b[0m\n\u001b[1;32m      6\u001b[0m \u001b[0;34m\u001b[0m\u001b[0m\n\u001b[0;32m----> 7\u001b[0;31m \u001b[0mnp_multiply\u001b[0m \u001b[0;34m=\u001b[0m \u001b[0mnp\u001b[0m\u001b[0;34m.\u001b[0m\u001b[0mmultiply\u001b[0m\u001b[0;34m(\u001b[0m\u001b[0mx\u001b[0m\u001b[0;34m,\u001b[0m \u001b[0my\u001b[0m\u001b[0;34m)\u001b[0m\u001b[0;34m\u001b[0m\u001b[0m\n\u001b[0m\u001b[1;32m      8\u001b[0m \u001b[0mprint\u001b[0m\u001b[0;34m(\u001b[0m\u001b[0mnumpy_multiplication\u001b[0m\u001b[0;34m)\u001b[0m\u001b[0;34m\u001b[0m\u001b[0m\n",
      "\u001b[0;31mValueError\u001b[0m: operands could not be broadcast together with shapes (199,) (99,) "
     ]
    }
   ],
   "source": [
    "x = [i for i in np.arange(1, 200, 1)]\n",
    "y = [i for i in np.arange(100, 1, -1)]\n",
    "\n",
    "x = np.array(x, dtype=np.float)\n",
    "y = np.array(y, dtype=np.float)\n",
    "\n",
    "np_multiply = np.multiply(x, y)\n",
    "print(numpy_multiplication)"
   ]
  },
  {
   "cell_type": "markdown",
   "metadata": {},
   "source": [
    "As you can see, since x is now in a range of 1 to 200 still incrementing by 1 and y has stayed the same length it returna an error. However there is an easy fix for this using the numpy indexes. Indexing with numpy allows us to broadcast arrays of different lengths and apply vector operations to the arrays by matching the length of the longer one to the shorter one (Not to confuse this with np.broadcast which is a more advanced function we will cover later allowing us to broadcast parts of arrays when signal filtering to other arrays)."
   ]
  },
  {
   "cell_type": "code",
   "execution_count": 7,
   "metadata": {},
   "outputs": [
    {
     "name": "stdout",
     "output_type": "stream",
     "text": [
      "[ 100  198  294  388  480  570  658  744  828  910  990 1068 1144 1218\n",
      " 1290 1360 1428 1494 1558 1620 1680 1738 1794 1848 1900 1950 1998 2044\n",
      " 2088 2130 2170 2208 2244 2278 2310 2340 2368 2394 2418 2440 2460 2478\n",
      " 2494 2508 2520 2530 2538 2544 2548 2550 2550 2548 2544 2538 2530 2520\n",
      " 2508 2494 2478 2460 2440 2418 2394 2368 2340 2310 2278 2244 2208 2170\n",
      " 2130 2088 2044 1998 1950 1900 1848 1794 1738 1680 1620 1558 1494 1428\n",
      " 1360 1290 1218 1144 1068  990  910  828  744  658  570  480  388  294\n",
      "  198]\n"
     ]
    }
   ],
   "source": [
    "x = [i for i in np.arange(1, 200, 1)]\n",
    "y = [i for i in np.arange(100, 1, -1)]\n",
    "\n",
    "x = np.array(x, dtype=np.float)\n",
    "y = np.array(y, dtype=np.float)\n",
    "\n",
    "#We Will Index X Here to Match Y\n",
    "np_multiply = np.multiply(x[-len(y):], y)\n",
    "print(numpy_multiplication)"
   ]
  },
  {
   "cell_type": "markdown",
   "metadata": {},
   "source": [
    "What we did here was take the length of the shorter array which in this case is y and set its length as the starting index of x. By setting the length to negative, it instructs numpy to take the last n values of x and multiply this by the full length of y. Another way we could do this could be by taking the first values of x and apply this against y. "
   ]
  },
  {
   "cell_type": "code",
   "execution_count": 8,
   "metadata": {},
   "outputs": [
    {
     "name": "stdout",
     "output_type": "stream",
     "text": [
      "[ 100  198  294  388  480  570  658  744  828  910  990 1068 1144 1218\n",
      " 1290 1360 1428 1494 1558 1620 1680 1738 1794 1848 1900 1950 1998 2044\n",
      " 2088 2130 2170 2208 2244 2278 2310 2340 2368 2394 2418 2440 2460 2478\n",
      " 2494 2508 2520 2530 2538 2544 2548 2550 2550 2548 2544 2538 2530 2520\n",
      " 2508 2494 2478 2460 2440 2418 2394 2368 2340 2310 2278 2244 2208 2170\n",
      " 2130 2088 2044 1998 1950 1900 1848 1794 1738 1680 1620 1558 1494 1428\n",
      " 1360 1290 1218 1144 1068  990  910  828  744  658  570  480  388  294\n",
      "  198]\n"
     ]
    }
   ],
   "source": [
    "x = [i for i in np.arange(1, 200, 1)]\n",
    "y = [i for i in np.arange(100, 1, -1)]\n",
    "\n",
    "x = np.array(x, dtype=np.float)\n",
    "y = np.array(y, dtype=np.float)\n",
    "\n",
    "#We Will Match The First Part of X To The Length of Y\n",
    "np_multiply = np.multiply(x[0:len(y)], y)\n",
    "print(numpy_multiplication)"
   ]
  },
  {
   "cell_type": "markdown",
   "metadata": {},
   "source": [
    "The following will show different simple numpy functions we can use besides multiply to allow vector operations. "
   ]
  },
  {
   "cell_type": "code",
   "execution_count": null,
   "metadata": {},
   "outputs": [],
   "source": [
    "x = [i for i in np.arange(1, 100, 1)]\n",
    "y = [i for i in np.arange(100, 1, -1)]\n",
    "\n",
    "x = np.array(x, dtype=np.float)\n",
    "y = np.array(y, dtype=np.float)\n",
    "\n",
    "np_divide = np.divide(x, y)\n",
    "np_add = np.add(x, y)\n",
    "np_subtract = np.subtract(x, y)\n",
    "\n",
    "#Basic Convolution Array\n",
    "np_convolve = np.convolve(x, y)"
   ]
  }
 ],
 "metadata": {
  "kernelspec": {
   "display_name": "Python 3",
   "language": "python",
   "name": "python3"
  },
  "language_info": {
   "codemirror_mode": {
    "name": "ipython",
    "version": 3
   },
   "file_extension": ".py",
   "mimetype": "text/x-python",
   "name": "python",
   "nbconvert_exporter": "python",
   "pygments_lexer": "ipython3",
   "version": "3.6.6"
  }
 },
 "nbformat": 4,
 "nbformat_minor": 2
}
